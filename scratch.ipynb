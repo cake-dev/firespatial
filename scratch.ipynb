{
 "cells": [
  {
   "cell_type": "markdown",
   "metadata": {},
   "source": [
    "https://data-nifc.opendata.arcgis.com/datasets/nifc::wildland-fire-incident-locations/about"
   ]
  },
  {
   "cell_type": "code",
   "execution_count": null,
   "metadata": {},
   "outputs": [],
   "source": [
    "import pandas as pd\n",
    "import numpy as np\n",
    "import matplotlib.pyplot as plt\n",
    "import geopandas as gpd"
   ]
  },
  {
   "cell_type": "code",
   "execution_count": null,
   "metadata": {},
   "outputs": [],
   "source": [
    "pd.set_option('display.max_columns', 100)\n",
    "pd.set_option('display.max_rows', 100)"
   ]
  },
  {
   "cell_type": "code",
   "execution_count": null,
   "metadata": {},
   "outputs": [],
   "source": [
    "# load ignition points\n",
    "ignition_points = pd.read_csv('data/WFIGS_Incident_Locations_CSV.csv')"
   ]
  },
  {
   "cell_type": "code",
   "execution_count": null,
   "metadata": {},
   "outputs": [],
   "source": [
    "ignition_points.columns"
   ]
  },
  {
   "cell_type": "code",
   "execution_count": null,
   "metadata": {},
   "outputs": [],
   "source": [
    "# ig_gdf\n",
    "ig_gdf = gpd.GeoDataFrame(ignition_points, geometry=gpd.points_from_xy(ignition_points['x'], ignition_points['y']))"
   ]
  },
  {
   "cell_type": "code",
   "execution_count": null,
   "metadata": {},
   "outputs": [],
   "source": [
    "ig_gdf_human_cause = ig_gdf[ig_gdf['FireCause'] == 'Human']\n",
    "ig_gdf_human_cause.reset_index(drop=True, inplace=True)\n",
    "# limit ig_gdf_human_cause to only CONUS\n",
    "ig_gdf_human_cause_conus = ig_gdf_human_cause.cx[-125:-65, 25:50]\n",
    "# drop values with null IncidentSize\n",
    "ig_gdf_human_cause_conus.dropna(subset=['IncidentSize'], inplace=True)"
   ]
  },
  {
   "cell_type": "code",
   "execution_count": null,
   "metadata": {},
   "outputs": [],
   "source": [
    "(ig_gdf_human_cause_conus.isnull().sum() / len(ig_gdf_human_cause_conus)) > 0.1"
   ]
  },
  {
   "cell_type": "code",
   "execution_count": null,
   "metadata": {},
   "outputs": [],
   "source": [
    "# drop columns with missing values\n",
    "ig_gdf_human_cause_conus.dropna(axis=1, inplace=True)"
   ]
  },
  {
   "cell_type": "code",
   "execution_count": null,
   "metadata": {},
   "outputs": [],
   "source": [
    "ig_gdf_human_cause_conus.dtypes"
   ]
  },
  {
   "cell_type": "code",
   "execution_count": null,
   "metadata": {},
   "outputs": [],
   "source": [
    "ig_gdf_human_cause_conus['FireDiscoveryDateTime'] = pd.to_datetime(ig_gdf_human_cause_conus['FireDiscoveryDateTime'])"
   ]
  },
  {
   "cell_type": "code",
   "execution_count": null,
   "metadata": {},
   "outputs": [],
   "source": [
    "ig_gdf_human_cause_conus['year'] = ig_gdf_human_cause_conus['FireDiscoveryDateTime'].dt.year"
   ]
  },
  {
   "cell_type": "code",
   "execution_count": null,
   "metadata": {},
   "outputs": [],
   "source": [
    "ig_gdf_human_cause_conus.sort_values(by='FireDiscoveryDateTime', ascending=False)"
   ]
  },
  {
   "cell_type": "code",
   "execution_count": null,
   "metadata": {},
   "outputs": [],
   "source": [
    "ig_gdf_human_cause_conus.plot.scatter(x='FireDiscoveryDateTime', y='IncidentSize', c='IncidentSize', cmap='viridis', alpha=0.5)"
   ]
  },
  {
   "cell_type": "markdown",
   "metadata": {},
   "source": [
    "-----"
   ]
  },
  {
   "cell_type": "code",
   "execution_count": null,
   "metadata": {},
   "outputs": [],
   "source": [
    "# create heatmap of human caused fires using folium\n",
    "import folium\n",
    "from folium.plugins import HeatMap\n",
    "\n",
    "m = folium.Map(location=[38, -97], zoom_start=4)\n",
    "\n",
    "heat_data = [[row['y'], row['x']] for index, row in ig_gdf_human_cause_conus.iterrows()]\n",
    "\n",
    "HeatMap(heat_data, radius = 15, min_opacity = 0.4, blur = 15, gradient = {0.4: 'blue', 0.65: 'lime', 1: 'red'}, max_zoom=18).add_to(m)\n",
    "\n",
    "m"
   ]
  },
  {
   "cell_type": "code",
   "execution_count": null,
   "metadata": {},
   "outputs": [],
   "source": [
    "# plot points scaled by IncidentSize using folium\n",
    "m = folium.Map(location=[38, -97], zoom_start=4)\n",
    "\n",
    "for i in range(0, len(ig_gdf_human_cause_conus)):\n",
    "    folium.Circle(\n",
    "        location=[ig_gdf_human_cause_conus.iloc[i]['y'], ig_gdf_human_cause_conus.iloc[i]['x']],\n",
    "        radius=np.log10(ig_gdf_human_cause_conus.iloc[i]['IncidentSize'] * 100),\n",
    "        color='crimson',\n",
    "        fill=True,\n",
    "        fill_color='crimson'\n",
    "    ).add_to(m)\n",
    "\n",
    "m"
   ]
  }
 ],
 "metadata": {
  "kernelspec": {
   "display_name": "firedata",
   "language": "python",
   "name": "python3"
  },
  "language_info": {
   "codemirror_mode": {
    "name": "ipython",
    "version": 3
   },
   "file_extension": ".py",
   "mimetype": "text/x-python",
   "name": "python",
   "nbconvert_exporter": "python",
   "pygments_lexer": "ipython3",
   "version": "3.12.3"
  }
 },
 "nbformat": 4,
 "nbformat_minor": 2
}
